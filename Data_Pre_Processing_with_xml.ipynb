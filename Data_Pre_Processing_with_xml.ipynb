{
 "cells": [
  {
   "cell_type": "code",
   "execution_count": null,
   "metadata": {
    "id": "1PbJ9f0Po_Iq"
   },
   "outputs": [],
   "source": [
    "import xml.etree.ElementTree as etree\n",
    "import cv2\n",
    "import numpy as np\n",
    "import os\n",
    "import random"
   ]
  },
  {
   "cell_type": "code",
   "execution_count": null,
   "metadata": {
    "id": "aiBd3z0fLDZp"
   },
   "outputs": [],
   "source": [
    "def save_crop_with_xml(image_path, xml_path, ratio, end_str):\n",
    "  start_path = '/content/drive/My Drive/dekhi/new_original/'\n",
    "  image = cv2.imread(image_path)\n",
    "  #print(image.shape)\n",
    "\n",
    "  tree = etree.parse(xml_path)\n",
    "  root = tree.getroot()\n",
    "\n",
    "  check = 0\n",
    "  new_height = image.shape[0]\n",
    "  new_width = image.shape[1]\n",
    "\n",
    "  if image.shape[0]!=int(root.find('size').find('height').text):\n",
    "    new_height = int(root.find('size').find('height').text)\n",
    "    check = 1\n",
    "  if image.shape[1]!=int(root.find('size').find('width').text):\n",
    "    new_width = int(root.find('size').find('width').text)\n",
    "    check = 1\n",
    "  \n",
    "  if check == 1:\n",
    "    image = cv2.resize(image, (new_width, new_height), interpolation = cv2.INTER_CUBIC)\n",
    "  \n",
    "  startY = int(ratio*image.shape[0]/2)\n",
    "  endY = image.shape[0] - startY\n",
    "  startX = int(ratio*image.shape[1]/2)\n",
    "  endX = image.shape[1] - startX\n",
    "  cropped = image[startY:endY, startX:endX]\n",
    "\n",
    "\n",
    "  for node in root:\n",
    "    if node.tag == 'object':\n",
    "      node.find('bndbox').find('xmin').text = str(int(node.find('bndbox').find('xmin').text) - startX)\n",
    "      node.find('bndbox').find('ymin').text = str(int(node.find('bndbox').find('ymin').text) - startY)\n",
    "      node.find('bndbox').find('xmax').text = str(int(node.find('bndbox').find('xmax').text) - startX)\n",
    "      node.find('bndbox').find('ymax').text = str(int(node.find('bndbox').find('ymax').text) - startY)\n",
    "      if int(node.find('bndbox').find('xmin').text) < 0:\n",
    "        node.find('bndbox').find('xmin').text = '0'\n",
    "      if int(node.find('bndbox').find('ymin').text) < 0:\n",
    "        node.find('bndbox').find('ymin').text = '0'\n",
    "      if int(node.find('bndbox').find('xmax').text) < 0:\n",
    "        node.find('bndbox').find('xmax').text = '0'\n",
    "      if int(node.find('bndbox').find('ymax').text) < 0:\n",
    "        node.find('bndbox').find('ymax').text = '0'\n",
    "      if int(node.find('bndbox').find('xmin').text) > image.shape[1] - 2*startX - 1:\n",
    "        node.find('bndbox').find('xmin').text = str(image.shape[1] - 2*startX - 1)\n",
    "      if int(node.find('bndbox').find('xmax').text) > image.shape[1] - 2*startX - 1:\n",
    "        node.find('bndbox').find('xmax').text = str(image.shape[1] - 2*startX - 1)\n",
    "      if int(node.find('bndbox').find('ymin').text) > image.shape[0] - 2*startY - 1:\n",
    "        node.find('bndbox').find('ymin').text = str(image.shape[0] - 2*startY - 1)\n",
    "      if int(node.find('bndbox').find('ymax').text) > image.shape[0] - 2*startY - 1:\n",
    "        node.find('bndbox').find('ymax').text = str(image.shape[0] - 2*startY - 1)\n",
    "  \n",
    "  cv2.imwrite(start_path + image_path[:-4] + end_str + '.jpg', cropped)\n",
    "  tree.write(start_path + xml_path[:-4] + end_str + '.xml')\n",
    "\n"
   ]
  },
  {
   "cell_type": "code",
   "execution_count": null,
   "metadata": {
    "id": "fqSiXYslWpG0"
   },
   "outputs": [],
   "source": [
    "#save_crop_with_xml('/content/01.jpg', '/content/01.xml', 0.2, 'xx')"
   ]
  },
  {
   "cell_type": "code",
   "execution_count": null,
   "metadata": {
    "id": "JxTn4aieW2p3"
   },
   "outputs": [],
   "source": [
    "def save_mirror_flip(image_path, xml_path, end_str):\n",
    "  start_path = '/content/drive/My Drive/dekhi/new_original/'\n",
    "  image = cv2.imread(image_path)\n",
    "  #print(image.shape)\n",
    "  flipped = cv2.flip(image, 1)\n",
    "\n",
    "  tree = etree.parse(xml_path)\n",
    "  root = tree.getroot()\n",
    "\n",
    "  for node in root:\n",
    "    if node.tag == 'object':\n",
    "      temp = int(node.find('bndbox').find('xmin').text)\n",
    "      node.find('bndbox').find('xmin').text = str(int(root.find('size').find('width').text) - int(node.find('bndbox').find('xmax').text))\n",
    "      node.find('bndbox').find('xmax').text = str(int(root.find('size').find('width').text) - temp)\n",
    "  \n",
    "  cv2.imwrite(start_path + image_path[:-4] + end_str + '.jpg', flipped)\n",
    "  tree.write(start_path + xml_path[:-4] + end_str + '.xml')\n",
    "      \n"
   ]
  },
  {
   "cell_type": "code",
   "execution_count": null,
   "metadata": {
    "id": "53mLmrjgeFXr"
   },
   "outputs": [],
   "source": [
    "#save_mirror_flip('/content/01.jpg', '/content/01.xml', 'yy')"
   ]
  },
  {
   "cell_type": "code",
   "execution_count": null,
   "metadata": {
    "id": "MGFdZnQuePxS"
   },
   "outputs": [],
   "source": [
    "def save_resize(image_path, xml_path, new_size):\n",
    "  image = cv2.imread(image_path)\n",
    "  #scaleX = new_size / image.shape[1]\n",
    "  #scaleY = new_size / image.shape[0]\n",
    "\n",
    "  tree = etree.parse(xml_path)\n",
    "  root = tree.getroot()\n",
    "\n",
    "  if root.find('size').find('width').text == '0':\n",
    "    root.find('size').find('width').text = str(image.shape[1])\n",
    "  if root.find('size').find('height').text == '0':\n",
    "    root.find('size').find('height').text = str(image.shape[0])\n",
    "\n",
    "  resized = cv2.resize(image, (new_size, new_size), interpolation = cv2.INTER_CUBIC)\n",
    "\n",
    "  scaleX = new_size/int(root.find('size').find('width').text)\n",
    "  scaleY = new_size/int(root.find('size').find('height').text)\n",
    "\n",
    "  for node in root:\n",
    "    if node.tag == 'size':\n",
    "      node.find('width').text = str(new_size)\n",
    "      node.find('height').text = str(new_size)\n",
    "    if node.tag == 'object':\n",
    "      node.find('bndbox').find('xmin').text = str(int(np.round(float(int(node.find('bndbox').find('xmin').text))*scaleX)))\n",
    "      node.find('bndbox').find('ymin').text = str(int(np.round(float(int(node.find('bndbox').find('ymin').text))*scaleY)))\n",
    "      node.find('bndbox').find('xmax').text = str(int(np.round(float(int(node.find('bndbox').find('xmax').text))*scaleX)))\n",
    "      node.find('bndbox').find('ymax').text = str(int(np.round(float(int(node.find('bndbox').find('ymax').text))*scaleY)))\n",
    "  \n",
    "  cv2.imwrite(image_path, resized)\n",
    "  tree.write(xml_path)\n"
   ]
  },
  {
   "cell_type": "code",
   "execution_count": null,
   "metadata": {
    "id": "Z60AtYWEscRN"
   },
   "outputs": [],
   "source": [
    "def improve_contrast_image_using_clahe(bgr_image: np.array) -> np.array:\n",
    "    hsv = cv2.cvtColor(bgr_image, cv2.COLOR_BGR2HSV)\n",
    "    hsv_planes = cv2.split(hsv)\n",
    "    clahe = cv2.createCLAHE(clipLimit=2.0, tileGridSize=(8, 8))\n",
    "    hsv_planes[2] = clahe.apply(hsv_planes[2])\n",
    "    hsv = cv2.merge(hsv_planes)\n",
    "    return cv2.cvtColor(hsv, cv2.COLOR_HSV2BGR)"
   ]
  },
  {
   "cell_type": "code",
   "execution_count": null,
   "metadata": {
    "id": "NFZBCJG9l0JR"
   },
   "outputs": [],
   "source": [
    "#save_resize('/content/113.jpg', '/content/113.xml', 1024)"
   ]
  },
  {
   "cell_type": "code",
   "execution_count": null,
   "metadata": {
    "colab": {
     "base_uri": "https://localhost:8080/"
    },
    "id": "qaSjqfjz4uym",
    "outputId": "e56d20c7-e2f4-455a-db62-9982b75dfb6e"
   },
   "outputs": [
    {
     "name": "stdout",
     "output_type": "stream",
     "text": [
      "/content/drive/My Drive/dekhi/original\n"
     ]
    }
   ],
   "source": [
    "# Change directory to Data folder\n",
    "%cd '/content/drive/My Drive/dekhi/original/'"
   ]
  },
  {
   "cell_type": "code",
   "execution_count": null,
   "metadata": {
    "colab": {
     "background_save": true,
     "base_uri": "https://localhost:8080/"
    },
    "id": "-YepUtMDBi2n",
    "outputId": "59871e30-90ef-4250-b658-34ac1fecb0c6"
   },
   "outputs": [],
   "source": [
    "path = 'path' #Dataset path\n",
    "next_path = 'path' #Processed images path\n",
    "\n",
    "files = os.listdir(path)\n",
    "files.sort()\n",
    "\n",
    "#print(len(files))\n",
    "\n",
    "st = 0\n",
    "if files[0] == '.ipynb_checkpoints':\n",
    "  st = 1\n",
    "\n",
    "\n",
    "for i in range(st, len(files), 2):\n",
    "  image_path = files[i]\n",
    "  xml_path = files[i+1]\n",
    "\n",
    "  if files[i] == '231.jpg':  # ignoring faulty image\n",
    "    continue\n",
    "  \n",
    "  im = cv2.imread(image_path)\n",
    "  tree = etree.parse(xml_path)\n",
    "\n",
    "  if files[i].endswith('.jpeg'): #handling different image format\n",
    "    print('+++')\n",
    "    cv2.imwrite(next_path + image_path[:-5] + '.jpg', im)\n",
    "  else:\n",
    "    cv2.imwrite(next_path + image_path[:-4] + '.jpg', im)\n",
    "  tree.write(next_path + xml_path)\n",
    "\n",
    "\n",
    "\n"
   ]
  },
  {
   "cell_type": "code",
   "execution_count": null,
   "metadata": {
    "colab": {
     "background_save": true,
     "base_uri": "https://localhost:8080/"
    },
    "id": "-KlujOHmn3A6",
    "outputId": "110995e1-3aa8-4846-f803-f518e4ee4d50"
   },
   "outputs": [],
   "source": [
    "new_files = os.listdir(next_path)\n",
    "#print(len(new_files))"
   ]
  },
  {
   "cell_type": "code",
   "execution_count": null,
   "metadata": {
    "colab": {
     "background_save": true,
     "base_uri": "https://localhost:8080/"
    },
    "id": "j4ik3P8GGSQZ",
    "outputId": "58c7d2b4-f793-4c3d-f665-633cb562d5f7"
   },
   "outputs": [],
   "source": [
    "%cd '/content/drive/My Drive/dekhi/new_original/'"
   ]
  },
  {
   "cell_type": "code",
   "execution_count": null,
   "metadata": {
    "colab": {
     "base_uri": "https://localhost:8080/"
    },
    "id": "atzNVckXl8sw",
    "outputId": "0738b65b-64a4-49b3-c01c-2f5ff8d8d763"
   },
   "outputs": [],
   "source": [
    "path = '/content/drive/My Drive/dekhi/new_original/'\n",
    "all_files = os.listdir(path)\n",
    "all_files.sort()\n",
    "print(all_files)\n",
    "st = 0\n",
    "if all_files[0] == '.ipynb_checkpoints':\n",
    "  st = 1\n",
    "\n",
    "count = 700\n",
    "\n",
    "for i in range(13208, len(all_files), 2):\n",
    "  if all_files[i] == 'Pias (359).jpg' or all_files[i] == 'Pias (360).jpg':\n",
    "    continue\n",
    "  cont = random.randint(0,2)\n",
    "  if cont == 0 and count<700:\n",
    "    count+=1\n",
    "    continue\n",
    "  ratio = random.uniform(0.01, 0.2)\n",
    "  #print(type(all_files[i]))\n",
    "  #print(all_files[i])\n",
    "  #print(type(all_files[i+1]))\n",
    "  #print(all_files[i+1])\n",
    "  save_crop_with_xml(all_files[i], all_files[i+1], ratio, 'v01')\n",
    "  dcn = random.randint(0,100)\n",
    "  if dcn < 35:\n",
    "    ratio2 = random.uniform(0.01, 0.2)\n",
    "    save_crop_with_xml(all_files[i], all_files[i+1], ratio2, 'v02')\n",
    "  elif dcn >= 35 and dcn < 90:\n",
    "    save_mirror_flip(all_files[i], all_files[i+1], 'v02')\n",
    "\n",
    "new_files = os.listdir(path)\n",
    "print(len(new_files))\n"
   ]
  },
  {
   "cell_type": "code",
   "execution_count": null,
   "metadata": {
    "colab": {
     "base_uri": "https://localhost:8080/"
    },
    "id": "2_YN8H2oqwcb",
    "outputId": "db7c0a0b-ac46-4b89-a4e4-88554bf2e870"
   },
   "outputs": [],
   "source": [
    "path = '/content/drive/My Drive/dekhi/new_original'\n",
    "all_files = os.listdir(path)\n",
    "all_files.sort()\n",
    "print(all_files)\n",
    "st = 0\n",
    "if all_files[0] == '.ipynb_checkpoints':\n",
    "  st = 1\n",
    "\n",
    "count = 0\n",
    "\n",
    "for i in range(st, len(all_files), 2):\n",
    "  save_resize(all_files[i], all_files[i+1], 1024)"
   ]
  },
  {
   "cell_type": "code",
   "execution_count": null,
   "metadata": {
    "colab": {
     "base_uri": "https://localhost:8080/"
    },
    "id": "r_3nQ7cE2l18",
    "outputId": "54613238-b99d-4b35-a8e3-8cc0705ad412"
   },
   "outputs": [],
   "source": [
    "path = '/content/drive/My Drive/dekhi/new_original/'\n",
    "all_files = os.listdir(path)\n",
    "all_files.sort()\n",
    "print(all_files)\n",
    "st = 0\n",
    "if all_files[0] == '.ipynb_checkpoints':\n",
    "  st = 1\n",
    "\n",
    "count = 0\n",
    "\n",
    "for i in range(st, len(all_files), 2):\n",
    "  if not all_files[i].endswith('.jpg'):\n",
    "    print(i)\n",
    "    print(all_files[i])"
   ]
  },
  {
   "cell_type": "code",
   "execution_count": null,
   "metadata": {
    "colab": {
     "base_uri": "https://localhost:8080/"
    },
    "id": "IpvJYp2d7D2D",
    "outputId": "558c148f-bf03-41c7-8488-f3d549eb77fd"
   },
   "outputs": [],
   "source": [
    "path = '/content/drive/My Drive/dekhi/new_original/'\n",
    "all_files = os.listdir(path)\n",
    "all_files.sort()\n",
    "print(all_files)\n",
    "st = 0\n",
    "if all_files[0] == '.ipynb_checkpoints':\n",
    "  st = 1\n",
    "\n",
    "count = 0\n",
    "\n",
    "for i in range(st, len(all_files), 2):\n",
    "  image = cv2.imread(all_files[i])\n",
    "  tree = etree.parse(all_files[i+1])\n",
    "  root = tree.getroot()\n",
    "\n",
    "  if image.shape != (int(root.find('size').find('height').text), int(root.find('size').find('width').text), 3):\n",
    "    print(i)\n",
    "    print(all_files[i])"
   ]
  },
  {
   "cell_type": "code",
   "execution_count": null,
   "metadata": {
    "colab": {
     "base_uri": "https://localhost:8080/"
    },
    "id": "roWKZHE49GTa",
    "outputId": "9bb0873d-b553-4d8a-97a0-eac964f2276f"
   },
   "outputs": [],
   "source": [
    "path = '/content/drive/My Drive/dekhi/new_original/'\n",
    "all_files = os.listdir(path)\n",
    "all_files.sort()\n",
    "print(all_files)\n",
    "st = 0\n",
    "if all_files[0] == '.ipynb_checkpoints':\n",
    "  st = 1\n",
    "\n",
    "count = 0\n",
    "\n",
    "for i in range(st, len(all_files), 2):\n",
    "  image = cv2.imread(all_files[i])\n",
    "  tree = etree.parse(all_files[i+1])\n",
    "  root = tree.getroot()\n",
    "\n",
    "  if image.shape != (1024, 1024, 3):\n",
    "    print(i)\n",
    "    print(all_files[i])"
   ]
  },
  {
   "cell_type": "code",
   "execution_count": null,
   "metadata": {
    "colab": {
     "base_uri": "https://localhost:8080/"
    },
    "id": "_qETv-Dtw4IG",
    "outputId": "01a6b67c-8943-45bf-db0b-f8e1bd0c64d4"
   },
   "outputs": [],
   "source": [
    "#print(len(all_files))"
   ]
  },
  {
   "cell_type": "code",
   "execution_count": null,
   "metadata": {
    "id": "052b0P8p8zjw"
   },
   "outputs": [],
   "source": []
  }
 ],
 "metadata": {
  "colab": {
   "collapsed_sections": [],
   "name": "crop_flip_resize_with_xml.ipynb",
   "provenance": []
  },
  "kernelspec": {
   "display_name": "Python 3",
   "language": "python",
   "name": "python3"
  },
  "language_info": {
   "codemirror_mode": {
    "name": "ipython",
    "version": 3
   },
   "file_extension": ".py",
   "mimetype": "text/x-python",
   "name": "python",
   "nbconvert_exporter": "python",
   "pygments_lexer": "ipython3",
   "version": "3.7.4"
  }
 },
 "nbformat": 4,
 "nbformat_minor": 1
}
